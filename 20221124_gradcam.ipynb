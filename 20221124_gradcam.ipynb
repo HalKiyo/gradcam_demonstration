{
 "cells": [
  {
   "cell_type": "markdown",
   "id": "76995345",
   "metadata": {
    "slideshow": {
     "slide_type": "slide"
    }
   },
   "source": [
    "## 深層の探検ツアー\n",
    "東工大 D3 梶山 青春 @ 鼎研究室\n",
    "<img width='500' src=\"src/madeinabyss.jpg\">"
   ]
  },
  {
   "cell_type": "code",
   "execution_count": null,
   "id": "845cba79",
   "metadata": {
    "slideshow": {
     "slide_type": "skip"
    }
   },
   "outputs": [],
   "source": []
  },
  {
   "cell_type": "code",
   "execution_count": null,
   "id": "f43146d5",
   "metadata": {
    "slideshow": {
     "slide_type": "skip"
    }
   },
   "outputs": [],
   "source": []
  },
  {
   "cell_type": "markdown",
   "id": "bc9469ac",
   "metadata": {
    "slideshow": {
     "slide_type": "slide"
    }
   },
   "source": [
    "### データ仕様\n",
    "|  TH  |  TH  |\n",
    "| ---- | ---- |\n",
    "|  TD  |  TD  |\n",
    "|  TD  |  TD  |"
   ]
  }
 ],
 "metadata": {
  "celltoolbar": "Slideshow",
  "kernelspec": {
   "display_name": "Python 3 (ipykernel)",
   "language": "python",
   "name": "python3"
  },
  "language_info": {
   "codemirror_mode": {
    "name": "ipython",
    "version": 3
   },
   "file_extension": ".py",
   "mimetype": "text/x-python",
   "name": "python",
   "nbconvert_exporter": "python",
   "pygments_lexer": "ipython3",
   "version": "3.8.10"
  }
 },
 "nbformat": 4,
 "nbformat_minor": 5
}
